{
 "cells": [
  {
   "cell_type": "code",
   "execution_count": 6,
   "metadata": {},
   "outputs": [],
   "source": [
    "import pandas as pd\n",
    "import seaborn as sns\n",
    "import matplotlib.pyplot as plt"
   ]
  },
  {
   "cell_type": "code",
   "execution_count": 2,
   "metadata": {},
   "outputs": [
    {
     "name": "stdout",
     "output_type": "stream",
     "text": [
      "df.shape=(70775, 74)\n"
     ]
    },
    {
     "data": {
      "text/html": [
       "<div>\n",
       "<style scoped>\n",
       "    .dataframe tbody tr th:only-of-type {\n",
       "        vertical-align: middle;\n",
       "    }\n",
       "\n",
       "    .dataframe tbody tr th {\n",
       "        vertical-align: top;\n",
       "    }\n",
       "\n",
       "    .dataframe thead th {\n",
       "        text-align: right;\n",
       "    }\n",
       "</style>\n",
       "<table border=\"1\" class=\"dataframe\">\n",
       "  <thead>\n",
       "    <tr style=\"text-align: right;\">\n",
       "      <th></th>\n",
       "      <th>POSITION_T</th>\n",
       "      <th>TOTAL_INTENSITY_CH3</th>\n",
       "      <th>TOTAL_INTENSITY_CH2</th>\n",
       "      <th>TOTAL_INTENSITY_CH1</th>\n",
       "      <th>ELLIPSE_MINOR</th>\n",
       "      <th>TRACK_INDEX</th>\n",
       "      <th>TRACK_START</th>\n",
       "      <th>ELLIPSE_THETA</th>\n",
       "      <th>NUMBER_MERGES</th>\n",
       "      <th>CIRCULARITY</th>\n",
       "      <th>...</th>\n",
       "      <th>MANUAL_SPOT_COLOR</th>\n",
       "      <th>MEDIAN_INTENSITY_CH2</th>\n",
       "      <th>MEDIAN_INTENSITY_CH3</th>\n",
       "      <th>POSITION_X</th>\n",
       "      <th>POSITION_Y</th>\n",
       "      <th>POSITION_Z</th>\n",
       "      <th>FILE</th>\n",
       "      <th>FILE_PATH</th>\n",
       "      <th>STEP</th>\n",
       "      <th>MAX_STEP</th>\n",
       "    </tr>\n",
       "  </thead>\n",
       "  <tbody>\n",
       "    <tr>\n",
       "      <th>0</th>\n",
       "      <td>0.000000</td>\n",
       "      <td>19692.0</td>\n",
       "      <td>7976.0</td>\n",
       "      <td>103413.0</td>\n",
       "      <td>6.688025</td>\n",
       "      <td>0.0</td>\n",
       "      <td>0.0</td>\n",
       "      <td>-0.226274</td>\n",
       "      <td>0.0</td>\n",
       "      <td>0.717033</td>\n",
       "      <td>...</td>\n",
       "      <td>NaN</td>\n",
       "      <td>84.0</td>\n",
       "      <td>221.0</td>\n",
       "      <td>1058.633259</td>\n",
       "      <td>828.762439</td>\n",
       "      <td>0.0</td>\n",
       "      <td>control_1</td>\n",
       "      <td>/scratch/indikar_root/indikar1/cstansbu/wh18_r...</td>\n",
       "      <td>0</td>\n",
       "      <td>36</td>\n",
       "    </tr>\n",
       "    <tr>\n",
       "      <th>1</th>\n",
       "      <td>1002.033915</td>\n",
       "      <td>19669.0</td>\n",
       "      <td>9110.0</td>\n",
       "      <td>109756.0</td>\n",
       "      <td>6.741419</td>\n",
       "      <td>0.0</td>\n",
       "      <td>0.0</td>\n",
       "      <td>-0.188042</td>\n",
       "      <td>0.0</td>\n",
       "      <td>0.739271</td>\n",
       "      <td>...</td>\n",
       "      <td>NaN</td>\n",
       "      <td>85.0</td>\n",
       "      <td>203.0</td>\n",
       "      <td>1057.641523</td>\n",
       "      <td>829.162680</td>\n",
       "      <td>0.0</td>\n",
       "      <td>control_1</td>\n",
       "      <td>/scratch/indikar_root/indikar1/cstansbu/wh18_r...</td>\n",
       "      <td>1</td>\n",
       "      <td>36</td>\n",
       "    </tr>\n",
       "    <tr>\n",
       "      <th>2</th>\n",
       "      <td>2004.067830</td>\n",
       "      <td>19688.0</td>\n",
       "      <td>8598.0</td>\n",
       "      <td>108502.0</td>\n",
       "      <td>6.410128</td>\n",
       "      <td>0.0</td>\n",
       "      <td>0.0</td>\n",
       "      <td>-0.292768</td>\n",
       "      <td>0.0</td>\n",
       "      <td>0.669219</td>\n",
       "      <td>...</td>\n",
       "      <td>NaN</td>\n",
       "      <td>89.0</td>\n",
       "      <td>210.0</td>\n",
       "      <td>1053.137295</td>\n",
       "      <td>830.432083</td>\n",
       "      <td>0.0</td>\n",
       "      <td>control_1</td>\n",
       "      <td>/scratch/indikar_root/indikar1/cstansbu/wh18_r...</td>\n",
       "      <td>2</td>\n",
       "      <td>36</td>\n",
       "    </tr>\n",
       "    <tr>\n",
       "      <th>3</th>\n",
       "      <td>3006.101744</td>\n",
       "      <td>21052.0</td>\n",
       "      <td>9763.0</td>\n",
       "      <td>123011.0</td>\n",
       "      <td>6.691057</td>\n",
       "      <td>0.0</td>\n",
       "      <td>0.0</td>\n",
       "      <td>-0.274836</td>\n",
       "      <td>0.0</td>\n",
       "      <td>0.702593</td>\n",
       "      <td>...</td>\n",
       "      <td>NaN</td>\n",
       "      <td>85.0</td>\n",
       "      <td>204.0</td>\n",
       "      <td>1045.437841</td>\n",
       "      <td>832.535888</td>\n",
       "      <td>0.0</td>\n",
       "      <td>control_1</td>\n",
       "      <td>/scratch/indikar_root/indikar1/cstansbu/wh18_r...</td>\n",
       "      <td>3</td>\n",
       "      <td>36</td>\n",
       "    </tr>\n",
       "    <tr>\n",
       "      <th>4</th>\n",
       "      <td>4008.135659</td>\n",
       "      <td>20987.0</td>\n",
       "      <td>9731.0</td>\n",
       "      <td>118014.0</td>\n",
       "      <td>6.592336</td>\n",
       "      <td>0.0</td>\n",
       "      <td>0.0</td>\n",
       "      <td>-0.132809</td>\n",
       "      <td>0.0</td>\n",
       "      <td>0.740076</td>\n",
       "      <td>...</td>\n",
       "      <td>NaN</td>\n",
       "      <td>91.0</td>\n",
       "      <td>195.0</td>\n",
       "      <td>1036.166999</td>\n",
       "      <td>835.750927</td>\n",
       "      <td>0.0</td>\n",
       "      <td>control_1</td>\n",
       "      <td>/scratch/indikar_root/indikar1/cstansbu/wh18_r...</td>\n",
       "      <td>4</td>\n",
       "      <td>36</td>\n",
       "    </tr>\n",
       "  </tbody>\n",
       "</table>\n",
       "<p>5 rows × 74 columns</p>\n",
       "</div>"
      ],
      "text/plain": [
       "    POSITION_T  TOTAL_INTENSITY_CH3  TOTAL_INTENSITY_CH2  TOTAL_INTENSITY_CH1  \\\n",
       "0     0.000000              19692.0               7976.0             103413.0   \n",
       "1  1002.033915              19669.0               9110.0             109756.0   \n",
       "2  2004.067830              19688.0               8598.0             108502.0   \n",
       "3  3006.101744              21052.0               9763.0             123011.0   \n",
       "4  4008.135659              20987.0               9731.0             118014.0   \n",
       "\n",
       "   ELLIPSE_MINOR  TRACK_INDEX  TRACK_START  ELLIPSE_THETA  NUMBER_MERGES  \\\n",
       "0       6.688025          0.0          0.0      -0.226274            0.0   \n",
       "1       6.741419          0.0          0.0      -0.188042            0.0   \n",
       "2       6.410128          0.0          0.0      -0.292768            0.0   \n",
       "3       6.691057          0.0          0.0      -0.274836            0.0   \n",
       "4       6.592336          0.0          0.0      -0.132809            0.0   \n",
       "\n",
       "   CIRCULARITY  ...  MANUAL_SPOT_COLOR  MEDIAN_INTENSITY_CH2  \\\n",
       "0     0.717033  ...                NaN                  84.0   \n",
       "1     0.739271  ...                NaN                  85.0   \n",
       "2     0.669219  ...                NaN                  89.0   \n",
       "3     0.702593  ...                NaN                  85.0   \n",
       "4     0.740076  ...                NaN                  91.0   \n",
       "\n",
       "   MEDIAN_INTENSITY_CH3   POSITION_X  POSITION_Y  POSITION_Z       FILE  \\\n",
       "0                 221.0  1058.633259  828.762439         0.0  control_1   \n",
       "1                 203.0  1057.641523  829.162680         0.0  control_1   \n",
       "2                 210.0  1053.137295  830.432083         0.0  control_1   \n",
       "3                 204.0  1045.437841  832.535888         0.0  control_1   \n",
       "4                 195.0  1036.166999  835.750927         0.0  control_1   \n",
       "\n",
       "                                           FILE_PATH  STEP  MAX_STEP  \n",
       "0  /scratch/indikar_root/indikar1/cstansbu/wh18_r...     0        36  \n",
       "1  /scratch/indikar_root/indikar1/cstansbu/wh18_r...     1        36  \n",
       "2  /scratch/indikar_root/indikar1/cstansbu/wh18_r...     2        36  \n",
       "3  /scratch/indikar_root/indikar1/cstansbu/wh18_r...     3        36  \n",
       "4  /scratch/indikar_root/indikar1/cstansbu/wh18_r...     4        36  \n",
       "\n",
       "[5 rows x 74 columns]"
      ]
     },
     "execution_count": 2,
     "metadata": {},
     "output_type": "execute_result"
    }
   ],
   "source": [
    "path = \"/scratch/indikar_root/indikar1/cstansbu/wh18_results/control_myod_only/filtered_spots.csv\"\n",
    "df = pd.read_csv(path)\n",
    "print(f\"{df.shape=}\")\n",
    "df.head()"
   ]
  },
  {
   "cell_type": "code",
   "execution_count": 8,
   "metadata": {},
   "outputs": [
    {
     "data": {
      "text/html": [
       "<div>\n",
       "<style scoped>\n",
       "    .dataframe tbody tr th:only-of-type {\n",
       "        vertical-align: middle;\n",
       "    }\n",
       "\n",
       "    .dataframe tbody tr th {\n",
       "        vertical-align: top;\n",
       "    }\n",
       "\n",
       "    .dataframe thead th {\n",
       "        text-align: right;\n",
       "    }\n",
       "</style>\n",
       "<table border=\"1\" class=\"dataframe\">\n",
       "  <thead>\n",
       "    <tr style=\"text-align: right;\">\n",
       "      <th></th>\n",
       "      <th>TRACK_ID</th>\n",
       "      <th>FRAME</th>\n",
       "    </tr>\n",
       "  </thead>\n",
       "  <tbody>\n",
       "    <tr>\n",
       "      <th>0</th>\n",
       "      <td>control_1_0</td>\n",
       "      <td>37</td>\n",
       "    </tr>\n",
       "    <tr>\n",
       "      <th>1</th>\n",
       "      <td>control_1_10</td>\n",
       "      <td>50</td>\n",
       "    </tr>\n",
       "    <tr>\n",
       "      <th>2</th>\n",
       "      <td>control_1_100</td>\n",
       "      <td>23</td>\n",
       "    </tr>\n",
       "    <tr>\n",
       "      <th>3</th>\n",
       "      <td>control_1_101</td>\n",
       "      <td>24</td>\n",
       "    </tr>\n",
       "    <tr>\n",
       "      <th>4</th>\n",
       "      <td>control_1_102</td>\n",
       "      <td>33</td>\n",
       "    </tr>\n",
       "  </tbody>\n",
       "</table>\n",
       "</div>"
      ],
      "text/plain": [
       "        TRACK_ID  FRAME\n",
       "0    control_1_0     37\n",
       "1   control_1_10     50\n",
       "2  control_1_100     23\n",
       "3  control_1_101     24\n",
       "4  control_1_102     33"
      ]
     },
     "execution_count": 8,
     "metadata": {},
     "output_type": "execute_result"
    }
   ],
   "source": [
    "counts = df.groupby('TRACK_ID', as_index=False)['FRAME'].count()\n",
    "counts['FRAME'] = counts['FRAME'].astype(int)\n",
    "counts.head()"
   ]
  },
  {
   "cell_type": "code",
   "execution_count": 12,
   "metadata": {},
   "outputs": [
    {
     "data": {
      "text/plain": [
       "<matplotlib.axes._subplots.AxesSubplot at 0x2ada27f772e0>"
      ]
     },
     "execution_count": 12,
     "metadata": {},
     "output_type": "execute_result"
    },
    {
     "data": {
      "image/png": "[encoded data removed]",
      "text/plain": [
       "<Figure size 1200x800 with 1 Axes>"
      ]
     },
     "metadata": {
      "needs_background": "light"
     },
     "output_type": "display_data"
    }
   ],
   "source": [
    "plt.rcParams['figure.dpi'] = 200\n",
    "counts['FRAME'].hist(bins=30, edgecolor='k')"
   ]
  },
  {
   "cell_type": "code",
   "execution_count": 13,
   "metadata": {},
   "outputs": [
    {
     "data": {
      "text/plain": [
       "count    2325.000000\n",
       "mean       30.440860\n",
       "std        21.720719\n",
       "min        12.000000\n",
       "25%        16.000000\n",
       "50%        23.000000\n",
       "75%        38.000000\n",
       "max       174.000000\n",
       "Name: FRAME, dtype: float64"
      ]
     },
     "execution_count": 13,
     "metadata": {},
     "output_type": "execute_result"
    }
   ],
   "source": [
    "counts['FRAME'].describe()"
   ]
  },
  {
   "cell_type": "code",
   "execution_count": null,
   "metadata": {},
   "outputs": [],
   "source": []
  }
 ],
 "metadata": {
  "kernelspec": {
   "display_name": "Python 3",
   "language": "python",
   "name": "python3"
  },
  "language_info": {
   "codemirror_mode": {
    "name": "ipython",
    "version": 3
   },
   "file_extension": ".py",
   "mimetype": "text/x-python",
   "name": "python",
   "nbconvert_exporter": "python",
   "pygments_lexer": "ipython3",
   "version": "3.8.3"
  }
 },
 "nbformat": 4,
 "nbformat_minor": 4
}
